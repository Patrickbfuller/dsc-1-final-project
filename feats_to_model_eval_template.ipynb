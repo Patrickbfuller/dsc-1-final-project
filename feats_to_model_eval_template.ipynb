{
 "cells": [
  {
   "cell_type": "code",
   "execution_count": 2,
   "metadata": {},
   "outputs": [],
   "source": [
    "import pandas as pd\n",
    "import numpy as np\n",
    "\n",
    "import statsmodels.api as sm\n",
    "from statsmodels.formula.api import ols\n",
    "\n",
    "from sklearn.model_selection import train_test_split , cross_val_score\n",
    "from sklearn.metrics import mean_squared_error\n",
    "from sklearn.linear_model import LinearRegression\n",
    "linreg = LinearRegression()\n",
    "from matplotlib import pyplot as plt\n",
    "\n",
    "def feat_to_model_eval(target, dataframe):\n",
    "    '''Quickly evaluate a multi-var linreg model for a target and features in a dataframe'''\n",
    "    predictors = df.drop(target, axis=1)\n",
    "    f = \"+\".join(predictors.columns)\n",
    "    f = target + \"~\" + f\n",
    "    f\n",
    "    model = ols(formula=f, data=df).fit()\n",
    "    display(model.summary())\n",
    "\n",
    "    y = df[target]\n",
    "    X = df.drop(target, axis=1)\n",
    "    a = np.mean(cross_val_score(linreg, X, y, cv=5, scoring='neg_mean_squared_error'))\n",
    "    b = np.mean(cross_val_score(linreg, X, y, cv=10, scoring='neg_mean_squared_error'))\n",
    "    c = np.mean(cross_val_score(linreg, X, y, cv=20, scoring='neg_mean_squared_error'))\n",
    "    avg = (a + b + c) / 3\n",
    "    print(\n",
    "        f'Average Negative Mean Squared Errors:\\n'\n",
    "        f' 5 Fold: {a}\\n'\n",
    "        f'10 Fold: {b}\\n'\n",
    "        f'20 Fold: {c}\\n'\n",
    "        f'Average of 5, 10, 20 Avg\\'s: {avg}')\n",
    "\n"
   ]
  },
  {
   "cell_type": "code",
   "execution_count": null,
   "metadata": {},
   "outputs": [],
   "source": []
  }
 ],
 "metadata": {
  "kernelspec": {
   "display_name": "learn-env",
   "language": "python",
   "name": "learn-env"
  },
  "language_info": {
   "codemirror_mode": {
    "name": "ipython",
    "version": 3
   },
   "file_extension": ".py",
   "mimetype": "text/x-python",
   "name": "python",
   "nbconvert_exporter": "python",
   "pygments_lexer": "ipython3",
   "version": "3.6.6"
  }
 },
 "nbformat": 4,
 "nbformat_minor": 2
}
